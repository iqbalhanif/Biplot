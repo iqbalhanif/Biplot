{
 "cells": [
  {
   "cell_type": "markdown",
   "metadata": {},
   "source": [
    "# Analisis Biplot"
   ]
  },
  {
   "cell_type": "markdown",
   "metadata": {},
   "source": [
    "### Set default directory"
   ]
  },
  {
   "cell_type": "code",
   "execution_count": 2,
   "metadata": {},
   "outputs": [],
   "source": [
    "setwd('D:/DATA/Desktop/GitHub/Biplot')"
   ]
  },
  {
   "cell_type": "markdown",
   "metadata": {},
   "source": [
    "### Baca data, sesuaikan separator sama decimal sesuai settingan excel di laptop masing2"
   ]
  },
  {
   "cell_type": "code",
   "execution_count": 4,
   "metadata": {},
   "outputs": [
    {
     "data": {
      "text/html": [
       "<table>\n",
       "<thead><tr><th scope=col>Code</th><th scope=col>Sector</th><th scope=col>Series</th><th scope=col>Movie</th><th scope=col>Entertainment</th><th scope=col>Children</th><th scope=col>Information</th><th scope=col>News</th><th scope=col>Religious</th><th scope=col>Sport</th><th scope=col>Special</th><th scope=col>Filler</th></tr></thead>\n",
       "<tbody>\n",
       "\t<tr><td>A                        </td><td>FOOD                     </td><td>0.21                     </td><td>0.16                     </td><td>0.13                     </td><td>0.15                     </td><td>0.12                     </td><td>0.17                     </td><td>0.02                     </td><td>0.01                     </td><td>0                        </td><td>0.02                     </td></tr>\n",
       "\t<tr><td>B                        </td><td>BEVERAGES                </td><td>0.20                     </td><td>0.15                     </td><td>0.14                     </td><td>0.12                     </td><td>0.13                     </td><td>0.18                     </td><td>0.02                     </td><td>0.03                     </td><td>0                        </td><td>0.02                     </td></tr>\n",
       "\t<tr><td>C                                                                    </td><td><span style=white-space:pre-wrap>SMOKING &amp; ACC            </span></td><td>0.22                                                                 </td><td>0.32                                                                 </td><td>0.15                                                                 </td><td>0.00                                                                 </td><td>0.06                                                                 </td><td>0.15                                                                 </td><td>0.00                                                                 </td><td>0.08                                                                 </td><td>0                                                                    </td><td>0.01                                                                 </td></tr>\n",
       "\t<tr><td>D                                                                    </td><td><span style=white-space:pre-wrap>BABY &amp; MATERNITY         </span></td><td>0.21                                                                 </td><td>0.17                                                                 </td><td>0.10                                                                 </td><td>0.25                                                                 </td><td>0.09                                                                 </td><td>0.14                                                                 </td><td>0.02                                                                 </td><td>0.01                                                                 </td><td>0                                                                    </td><td>0.01                                                                 </td></tr>\n",
       "\t<tr><td>E                        </td><td>MEDICINES/PHARMACEUTICALS</td><td>0.20                     </td><td>0.10                     </td><td>0.09                     </td><td>0.09                     </td><td>0.15                     </td><td>0.27                     </td><td>0.03                     </td><td>0.02                     </td><td>0                        </td><td>0.04                     </td></tr>\n",
       "\t<tr><td>F                                                                    </td><td><span style=white-space:pre-wrap>TOILETRIES &amp; COSMETICS   </span></td><td>0.20                                                                 </td><td>0.21                                                                 </td><td>0.14                                                                 </td><td>0.13                                                                 </td><td>0.12                                                                 </td><td>0.15                                                                 </td><td>0.02                                                                 </td><td>0.03                                                                 </td><td>0                                                                    </td><td>0.01                                                                 </td></tr>\n",
       "</tbody>\n",
       "</table>\n"
      ],
      "text/latex": [
       "\\begin{tabular}{r|llllllllllll}\n",
       " Code & Sector & Series & Movie & Entertainment & Children & Information & News & Religious & Sport & Special & Filler\\\\\n",
       "\\hline\n",
       "\t A                         & FOOD                      & 0.21                      & 0.16                      & 0.13                      & 0.15                      & 0.12                      & 0.17                      & 0.02                      & 0.01                      & 0                         & 0.02                     \\\\\n",
       "\t B                         & BEVERAGES                 & 0.20                      & 0.15                      & 0.14                      & 0.12                      & 0.13                      & 0.18                      & 0.02                      & 0.03                      & 0                         & 0.02                     \\\\\n",
       "\t C                           & SMOKING \\& ACC             & 0.22                        & 0.32                        & 0.15                        & 0.00                        & 0.06                        & 0.15                        & 0.00                        & 0.08                        & 0                           & 0.01                       \\\\\n",
       "\t D                           & BABY \\& MATERNITY          & 0.21                        & 0.17                        & 0.10                        & 0.25                        & 0.09                        & 0.14                        & 0.02                        & 0.01                        & 0                           & 0.01                       \\\\\n",
       "\t E                         & MEDICINES/PHARMACEUTICALS & 0.20                      & 0.10                      & 0.09                      & 0.09                      & 0.15                      & 0.27                      & 0.03                      & 0.02                      & 0                         & 0.04                     \\\\\n",
       "\t F                           & TOILETRIES \\& COSMETICS    & 0.20                        & 0.21                        & 0.14                        & 0.13                        & 0.12                        & 0.15                        & 0.02                        & 0.03                        & 0                           & 0.01                       \\\\\n",
       "\\end{tabular}\n"
      ],
      "text/markdown": [
       "\n",
       "Code | Sector | Series | Movie | Entertainment | Children | Information | News | Religious | Sport | Special | Filler | \n",
       "|---|---|---|---|---|---|\n",
       "| A                         | FOOD                      | 0.21                      | 0.16                      | 0.13                      | 0.15                      | 0.12                      | 0.17                      | 0.02                      | 0.01                      | 0                         | 0.02                      | \n",
       "| B                         | BEVERAGES                 | 0.20                      | 0.15                      | 0.14                      | 0.12                      | 0.13                      | 0.18                      | 0.02                      | 0.03                      | 0                         | 0.02                      | \n",
       "| C                         | SMOKING & ACC             | 0.22                      | 0.32                      | 0.15                      | 0.00                      | 0.06                      | 0.15                      | 0.00                      | 0.08                      | 0                         | 0.01                      | \n",
       "| D                         | BABY & MATERNITY          | 0.21                      | 0.17                      | 0.10                      | 0.25                      | 0.09                      | 0.14                      | 0.02                      | 0.01                      | 0                         | 0.01                      | \n",
       "| E                         | MEDICINES/PHARMACEUTICALS | 0.20                      | 0.10                      | 0.09                      | 0.09                      | 0.15                      | 0.27                      | 0.03                      | 0.02                      | 0                         | 0.04                      | \n",
       "| F                         | TOILETRIES & COSMETICS    | 0.20                      | 0.21                      | 0.14                      | 0.13                      | 0.12                      | 0.15                      | 0.02                      | 0.03                      | 0                         | 0.01                      | \n",
       "\n",
       "\n"
      ],
      "text/plain": [
       "  Code Sector                    Series Movie Entertainment Children\n",
       "1 A    FOOD                      0.21   0.16  0.13          0.15    \n",
       "2 B    BEVERAGES                 0.20   0.15  0.14          0.12    \n",
       "3 C    SMOKING & ACC             0.22   0.32  0.15          0.00    \n",
       "4 D    BABY & MATERNITY          0.21   0.17  0.10          0.25    \n",
       "5 E    MEDICINES/PHARMACEUTICALS 0.20   0.10  0.09          0.09    \n",
       "6 F    TOILETRIES & COSMETICS    0.20   0.21  0.14          0.13    \n",
       "  Information News Religious Sport Special Filler\n",
       "1 0.12        0.17 0.02      0.01  0       0.02  \n",
       "2 0.13        0.18 0.02      0.03  0       0.02  \n",
       "3 0.06        0.15 0.00      0.08  0       0.01  \n",
       "4 0.09        0.14 0.02      0.01  0       0.01  \n",
       "5 0.15        0.27 0.03      0.02  0       0.04  \n",
       "6 0.12        0.15 0.02      0.03  0       0.01  "
      ]
     },
     "metadata": {},
     "output_type": "display_data"
    }
   ],
   "source": [
    "data<-read.table(file.choose(),header=TRUE, sep=\";\", fill=TRUE, dec=\",\")\n",
    "head(data)"
   ]
  },
  {
   "cell_type": "markdown",
   "metadata": {},
   "source": [
    "### Subset data (buang nama kolom dan baris)"
   ]
  },
  {
   "cell_type": "code",
   "execution_count": 6,
   "metadata": {},
   "outputs": [
    {
     "data": {
      "text/html": [
       "'matrix'"
      ],
      "text/latex": [
       "'matrix'"
      ],
      "text/markdown": [
       "'matrix'"
      ],
      "text/plain": [
       "[1] \"matrix\""
      ]
     },
     "metadata": {},
     "output_type": "display_data"
    },
    {
     "data": {
      "text/html": [
       "<table>\n",
       "<thead><tr><th scope=col>Series</th><th scope=col>Movie</th><th scope=col>Entertainment</th><th scope=col>Children</th><th scope=col>Information</th><th scope=col>News</th><th scope=col>Religious</th><th scope=col>Sport</th><th scope=col>Special</th></tr></thead>\n",
       "<tbody>\n",
       "\t<tr><td>0.21</td><td>0.16</td><td>0.13</td><td>0.15</td><td>0.12</td><td>0.17</td><td>0.02</td><td>0.01</td><td>0   </td></tr>\n",
       "\t<tr><td>0.20</td><td>0.15</td><td>0.14</td><td>0.12</td><td>0.13</td><td>0.18</td><td>0.02</td><td>0.03</td><td>0   </td></tr>\n",
       "\t<tr><td>0.22</td><td>0.32</td><td>0.15</td><td>0.00</td><td>0.06</td><td>0.15</td><td>0.00</td><td>0.08</td><td>0   </td></tr>\n",
       "\t<tr><td>0.21</td><td>0.17</td><td>0.10</td><td>0.25</td><td>0.09</td><td>0.14</td><td>0.02</td><td>0.01</td><td>0   </td></tr>\n",
       "\t<tr><td>0.20</td><td>0.10</td><td>0.09</td><td>0.09</td><td>0.15</td><td>0.27</td><td>0.03</td><td>0.02</td><td>0   </td></tr>\n",
       "\t<tr><td>0.20</td><td>0.21</td><td>0.14</td><td>0.13</td><td>0.12</td><td>0.15</td><td>0.02</td><td>0.03</td><td>0   </td></tr>\n",
       "</tbody>\n",
       "</table>\n"
      ],
      "text/latex": [
       "\\begin{tabular}{lllllllll}\n",
       " Series & Movie & Entertainment & Children & Information & News & Religious & Sport & Special\\\\\n",
       "\\hline\n",
       "\t 0.21 & 0.16 & 0.13 & 0.15 & 0.12 & 0.17 & 0.02 & 0.01 & 0   \\\\\n",
       "\t 0.20 & 0.15 & 0.14 & 0.12 & 0.13 & 0.18 & 0.02 & 0.03 & 0   \\\\\n",
       "\t 0.22 & 0.32 & 0.15 & 0.00 & 0.06 & 0.15 & 0.00 & 0.08 & 0   \\\\\n",
       "\t 0.21 & 0.17 & 0.10 & 0.25 & 0.09 & 0.14 & 0.02 & 0.01 & 0   \\\\\n",
       "\t 0.20 & 0.10 & 0.09 & 0.09 & 0.15 & 0.27 & 0.03 & 0.02 & 0   \\\\\n",
       "\t 0.20 & 0.21 & 0.14 & 0.13 & 0.12 & 0.15 & 0.02 & 0.03 & 0   \\\\\n",
       "\\end{tabular}\n"
      ],
      "text/markdown": [
       "\n",
       "Series | Movie | Entertainment | Children | Information | News | Religious | Sport | Special | \n",
       "|---|---|---|---|---|---|\n",
       "| 0.21 | 0.16 | 0.13 | 0.15 | 0.12 | 0.17 | 0.02 | 0.01 | 0    | \n",
       "| 0.20 | 0.15 | 0.14 | 0.12 | 0.13 | 0.18 | 0.02 | 0.03 | 0    | \n",
       "| 0.22 | 0.32 | 0.15 | 0.00 | 0.06 | 0.15 | 0.00 | 0.08 | 0    | \n",
       "| 0.21 | 0.17 | 0.10 | 0.25 | 0.09 | 0.14 | 0.02 | 0.01 | 0    | \n",
       "| 0.20 | 0.10 | 0.09 | 0.09 | 0.15 | 0.27 | 0.03 | 0.02 | 0    | \n",
       "| 0.20 | 0.21 | 0.14 | 0.13 | 0.12 | 0.15 | 0.02 | 0.03 | 0    | \n",
       "\n",
       "\n"
      ],
      "text/plain": [
       "     Series Movie Entertainment Children Information News Religious Sport\n",
       "[1,] 0.21   0.16  0.13          0.15     0.12        0.17 0.02      0.01 \n",
       "[2,] 0.20   0.15  0.14          0.12     0.13        0.18 0.02      0.03 \n",
       "[3,] 0.22   0.32  0.15          0.00     0.06        0.15 0.00      0.08 \n",
       "[4,] 0.21   0.17  0.10          0.25     0.09        0.14 0.02      0.01 \n",
       "[5,] 0.20   0.10  0.09          0.09     0.15        0.27 0.03      0.02 \n",
       "[6,] 0.20   0.21  0.14          0.13     0.12        0.15 0.02      0.03 \n",
       "     Special\n",
       "[1,] 0      \n",
       "[2,] 0      \n",
       "[3,] 0      \n",
       "[4,] 0      \n",
       "[5,] 0      \n",
       "[6,] 0      "
      ]
     },
     "metadata": {},
     "output_type": "display_data"
    },
    {
     "data": {
      "text/html": [
       "20"
      ],
      "text/latex": [
       "20"
      ],
      "text/markdown": [
       "20"
      ],
      "text/plain": [
       "[1] 20"
      ]
     },
     "metadata": {},
     "output_type": "display_data"
    }
   ],
   "source": [
    "matriks<-as.matrix.data.frame(data[,3:11]) ##Membuang kolom pertama\n",
    "class(matriks)\n",
    "head(matriks)\n",
    "nrow(matriks)"
   ]
  },
  {
   "cell_type": "markdown",
   "metadata": {},
   "source": [
    "### Buat label (nama observasi dan nama variabel)"
   ]
  },
  {
   "cell_type": "code",
   "execution_count": 7,
   "metadata": {},
   "outputs": [],
   "source": [
    "xlabel<-data[1:20,1]  ##Ambil kolom pertama untuk nama observasi\n",
    "ylabel<-colnames(data[,3:11])"
   ]
  },
  {
   "cell_type": "markdown",
   "metadata": {},
   "source": [
    "### Single Value Decomposition"
   ]
  },
  {
   "cell_type": "code",
   "execution_count": 8,
   "metadata": {},
   "outputs": [],
   "source": [
    "y<-svd(matriks)\n",
    "U<-y$u\n",
    "L<-diag(y$d)\n",
    "A<-y$v"
   ]
  },
  {
   "cell_type": "markdown",
   "metadata": {},
   "source": [
    "### Matriks G H untuk biplot"
   ]
  },
  {
   "cell_type": "code",
   "execution_count": 9,
   "metadata": {},
   "outputs": [],
   "source": [
    "G<-U%*%sqrt(L)\n",
    "Ht<-L%*%t(A)\n",
    "H<-t(Ht)\n",
    "G2<-G[,1:2]\n",
    "H2<-H[,1:2]"
   ]
  },
  {
   "cell_type": "markdown",
   "metadata": {},
   "source": [
    "### Cek besar keragaman yang mampu dijelaskan biplot (baiknya > 70%)"
   ]
  },
  {
   "cell_type": "code",
   "execution_count": 10,
   "metadata": {},
   "outputs": [
    {
     "data": {
      "text/html": [
       "94.7507198957291"
      ],
      "text/latex": [
       "94.7507198957291"
      ],
      "text/markdown": [
       "94.7507198957291"
      ],
      "text/plain": [
       "[1] 94.75072"
      ]
     },
     "metadata": {},
     "output_type": "display_data"
    }
   ],
   "source": [
    "cek<-eigen(t(matriks)%*%matriks)$values\n",
    "dim1<-sum(cek[1])/sum(cek)*100\n",
    "dim2<-sum(cek[2])/sum(cek)*100\n",
    "dim1+dim2"
   ]
  },
  {
   "cell_type": "markdown",
   "metadata": {},
   "source": [
    "### Buat keterangan di sumbu x dan y tenatang keragaman"
   ]
  },
  {
   "cell_type": "code",
   "execution_count": 11,
   "metadata": {},
   "outputs": [],
   "source": [
    "xlab<-paste(\"Dimension 1(\",round(dim1,2),\"%)\")\n",
    "ylab<-paste(\"Dimension 2(\",round(dim2,2),\"%)\")"
   ]
  },
  {
   "cell_type": "markdown",
   "metadata": {},
   "source": [
    "### Buat biplot"
   ]
  },
  {
   "cell_type": "code",
   "execution_count": 12,
   "metadata": {},
   "outputs": [
    {
     "data": {
      "image/png": "[encoded data removed]",
      "text/plain": [
       "Plot with title \"Biplot Analysis\""
      ]
     },
     "metadata": {},
     "output_type": "display_data"
    }
   ],
   "source": [
    "biplot (G2, H2, xlabs=xlabel, ylabs = ylabel, cex=0.8, main=\"Biplot Analysis\", xlab = xlab, ylab=ylab)"
   ]
  },
  {
   "cell_type": "markdown",
   "metadata": {},
   "source": [
    "### Export ke jpeg"
   ]
  },
  {
   "cell_type": "code",
   "execution_count": 13,
   "metadata": {},
   "outputs": [],
   "source": [
    "png(file=\"biplot.png\",width=800,height=750,res=100)\n",
    "biplot(G2, H2, xlabs=xlabel, ylabs = ylabel, cex=0.8, main=\"Biplot Analysis\", xlab = xlab, ylab=ylab)\n",
    "abline(h=0)\n",
    "abline(v=0)"
   ]
  },
  {
   "cell_type": "markdown",
   "metadata": {},
   "source": [
    "# Extras"
   ]
  },
  {
   "cell_type": "markdown",
   "metadata": {},
   "source": [
    "### Matirks var covar (analisa keragaman alias panjang panah di biplot)"
   ]
  },
  {
   "cell_type": "code",
   "execution_count": 14,
   "metadata": {},
   "outputs": [
    {
     "data": {
      "text/html": [
       "<ol class=list-inline>\n",
       "\t<li>0.692098258919931</li>\n",
       "\t<li>0.641404708432983</li>\n",
       "\t<li>0.526687763290548</li>\n",
       "\t<li>0.449666543118342</li>\n",
       "\t<li>0.828613299434664</li>\n",
       "\t<li>1.36696744657655</li>\n",
       "\t<li>0.180831413200251</li>\n",
       "\t<li>0.195448202856921</li>\n",
       "\t<li>0.0173205080756888</li>\n",
       "</ol>\n"
      ],
      "text/latex": [
       "\\begin{enumerate*}\n",
       "\\item 0.692098258919931\n",
       "\\item 0.641404708432983\n",
       "\\item 0.526687763290548\n",
       "\\item 0.449666543118342\n",
       "\\item 0.828613299434664\n",
       "\\item 1.36696744657655\n",
       "\\item 0.180831413200251\n",
       "\\item 0.195448202856921\n",
       "\\item 0.0173205080756888\n",
       "\\end{enumerate*}\n"
      ],
      "text/markdown": [
       "1. 0.692098258919931\n",
       "2. 0.641404708432983\n",
       "3. 0.526687763290548\n",
       "4. 0.449666543118342\n",
       "5. 0.828613299434664\n",
       "6. 1.36696744657655\n",
       "7. 0.180831413200251\n",
       "8. 0.195448202856921\n",
       "9. 0.0173205080756888\n",
       "\n",
       "\n"
      ],
      "text/plain": [
       "[1] 0.69209826 0.64140471 0.52668776 0.44966654 0.82861330 1.36696745 0.18083141\n",
       "[8] 0.19544820 0.01732051"
      ]
     },
     "metadata": {},
     "output_type": "display_data"
    },
    {
     "data": {
      "text/html": [
       "<table>\n",
       "<tbody>\n",
       "\t<tr><td>1.0000000</td><td>0.9616704</td><td>0.9445306</td><td>0.8302984</td><td>0.7290554</td><td>0.7538508</td><td>0.5888787</td><td>0.7762290</td><td>0.2669449</td></tr>\n",
       "\t<tr><td>0.9616704</td><td>1.0000000</td><td>0.9214966</td><td>0.7343502</td><td>0.6843200</td><td>0.7090724</td><td>0.5147168</td><td>0.8200291</td><td>0.2160322</td></tr>\n",
       "\t<tr><td>0.9445306</td><td>0.9214966</td><td>1.0000000</td><td>0.7617154</td><td>0.8207681</td><td>0.8151785</td><td>0.7192228</td><td>0.8179508</td><td>0.3398191</td></tr>\n",
       "\t<tr><td>0.8302984</td><td>0.7343502</td><td>0.7617154</td><td>1.0000000</td><td>0.5450890</td><td>0.5253144</td><td>0.6222803</td><td>0.4835782</td><td>0.1283952</td></tr>\n",
       "\t<tr><td>0.7290554</td><td>0.6843200</td><td>0.8207681</td><td>0.5450890</td><td>1.0000000</td><td>0.9097832</td><td>0.6727206</td><td>0.7860403</td><td>0.3483834</td></tr>\n",
       "\t<tr><td>0.7538508</td><td>0.7090724</td><td>0.8151785</td><td>0.5253144</td><td>0.9097832</td><td>1.0000000</td><td>0.6755919</td><td>0.8256874</td><td>0.5195009</td></tr>\n",
       "\t<tr><td>0.5888787</td><td>0.5147168</td><td>0.7192228</td><td>0.6222803</td><td>0.6727206</td><td>0.6755919</td><td>1.0000000</td><td>0.6790561</td><td>0.3512030</td></tr>\n",
       "\t<tr><td>0.7762290</td><td>0.8200291</td><td>0.8179508</td><td>0.4835782</td><td>0.7860403</td><td>0.8256874</td><td>0.6790561</td><td>1.0000000</td><td>0.3249379</td></tr>\n",
       "\t<tr><td>0.2669449</td><td>0.2160322</td><td>0.3398191</td><td>0.1283952</td><td>0.3483834</td><td>0.5195009</td><td>0.3512030</td><td>0.3249379</td><td>1.0000000</td></tr>\n",
       "</tbody>\n",
       "</table>\n"
      ],
      "text/latex": [
       "\\begin{tabular}{lllllllll}\n",
       "\t 1.0000000 & 0.9616704 & 0.9445306 & 0.8302984 & 0.7290554 & 0.7538508 & 0.5888787 & 0.7762290 & 0.2669449\\\\\n",
       "\t 0.9616704 & 1.0000000 & 0.9214966 & 0.7343502 & 0.6843200 & 0.7090724 & 0.5147168 & 0.8200291 & 0.2160322\\\\\n",
       "\t 0.9445306 & 0.9214966 & 1.0000000 & 0.7617154 & 0.8207681 & 0.8151785 & 0.7192228 & 0.8179508 & 0.3398191\\\\\n",
       "\t 0.8302984 & 0.7343502 & 0.7617154 & 1.0000000 & 0.5450890 & 0.5253144 & 0.6222803 & 0.4835782 & 0.1283952\\\\\n",
       "\t 0.7290554 & 0.6843200 & 0.8207681 & 0.5450890 & 1.0000000 & 0.9097832 & 0.6727206 & 0.7860403 & 0.3483834\\\\\n",
       "\t 0.7538508 & 0.7090724 & 0.8151785 & 0.5253144 & 0.9097832 & 1.0000000 & 0.6755919 & 0.8256874 & 0.5195009\\\\\n",
       "\t 0.5888787 & 0.5147168 & 0.7192228 & 0.6222803 & 0.6727206 & 0.6755919 & 1.0000000 & 0.6790561 & 0.3512030\\\\\n",
       "\t 0.7762290 & 0.8200291 & 0.8179508 & 0.4835782 & 0.7860403 & 0.8256874 & 0.6790561 & 1.0000000 & 0.3249379\\\\\n",
       "\t 0.2669449 & 0.2160322 & 0.3398191 & 0.1283952 & 0.3483834 & 0.5195009 & 0.3512030 & 0.3249379 & 1.0000000\\\\\n",
       "\\end{tabular}\n"
      ],
      "text/markdown": [
       "\n",
       "| 1.0000000 | 0.9616704 | 0.9445306 | 0.8302984 | 0.7290554 | 0.7538508 | 0.5888787 | 0.7762290 | 0.2669449 | \n",
       "| 0.9616704 | 1.0000000 | 0.9214966 | 0.7343502 | 0.6843200 | 0.7090724 | 0.5147168 | 0.8200291 | 0.2160322 | \n",
       "| 0.9445306 | 0.9214966 | 1.0000000 | 0.7617154 | 0.8207681 | 0.8151785 | 0.7192228 | 0.8179508 | 0.3398191 | \n",
       "| 0.8302984 | 0.7343502 | 0.7617154 | 1.0000000 | 0.5450890 | 0.5253144 | 0.6222803 | 0.4835782 | 0.1283952 | \n",
       "| 0.7290554 | 0.6843200 | 0.8207681 | 0.5450890 | 1.0000000 | 0.9097832 | 0.6727206 | 0.7860403 | 0.3483834 | \n",
       "| 0.7538508 | 0.7090724 | 0.8151785 | 0.5253144 | 0.9097832 | 1.0000000 | 0.6755919 | 0.8256874 | 0.5195009 | \n",
       "| 0.5888787 | 0.5147168 | 0.7192228 | 0.6222803 | 0.6727206 | 0.6755919 | 1.0000000 | 0.6790561 | 0.3512030 | \n",
       "| 0.7762290 | 0.8200291 | 0.8179508 | 0.4835782 | 0.7860403 | 0.8256874 | 0.6790561 | 1.0000000 | 0.3249379 | \n",
       "| 0.2669449 | 0.2160322 | 0.3398191 | 0.1283952 | 0.3483834 | 0.5195009 | 0.3512030 | 0.3249379 | 1.0000000 | \n",
       "\n",
       "\n"
      ],
      "text/plain": [
       "      [,1]      [,2]      [,3]      [,4]      [,5]      [,6]      [,7]     \n",
       " [1,] 1.0000000 0.9616704 0.9445306 0.8302984 0.7290554 0.7538508 0.5888787\n",
       " [2,] 0.9616704 1.0000000 0.9214966 0.7343502 0.6843200 0.7090724 0.5147168\n",
       " [3,] 0.9445306 0.9214966 1.0000000 0.7617154 0.8207681 0.8151785 0.7192228\n",
       " [4,] 0.8302984 0.7343502 0.7617154 1.0000000 0.5450890 0.5253144 0.6222803\n",
       " [5,] 0.7290554 0.6843200 0.8207681 0.5450890 1.0000000 0.9097832 0.6727206\n",
       " [6,] 0.7538508 0.7090724 0.8151785 0.5253144 0.9097832 1.0000000 0.6755919\n",
       " [7,] 0.5888787 0.5147168 0.7192228 0.6222803 0.6727206 0.6755919 1.0000000\n",
       " [8,] 0.7762290 0.8200291 0.8179508 0.4835782 0.7860403 0.8256874 0.6790561\n",
       " [9,] 0.2669449 0.2160322 0.3398191 0.1283952 0.3483834 0.5195009 0.3512030\n",
       "      [,8]      [,9]     \n",
       " [1,] 0.7762290 0.2669449\n",
       " [2,] 0.8200291 0.2160322\n",
       " [3,] 0.8179508 0.3398191\n",
       " [4,] 0.4835782 0.1283952\n",
       " [5,] 0.7860403 0.3483834\n",
       " [6,] 0.8256874 0.5195009\n",
       " [7,] 0.6790561 0.3512030\n",
       " [8,] 1.0000000 0.3249379\n",
       " [9,] 0.3249379 1.0000000"
      ]
     },
     "metadata": {},
     "output_type": "display_data"
    }
   ],
   "source": [
    "var<-H%*%t(H)\n",
    "sqrt(diag(var))\n",
    "cov2cor(var)"
   ]
  },
  {
   "cell_type": "markdown",
   "metadata": {},
   "source": [
    "### Matriks jarak euclid (analisa jarak dari tiap posisi observasi)"
   ]
  },
  {
   "cell_type": "code",
   "execution_count": 15,
   "metadata": {},
   "outputs": [
    {
     "data": {
      "text/html": [
       "<table>\n",
       "<tbody>\n",
       "\t<tr><td>0.12233086  </td><td>0.10996581  </td><td> 0.092988578</td><td>0.13794409  </td><td>0.10073230  </td><td>0.11608839  </td><td>0.07079862  </td><td>0.12420658  </td><td>0.08501370  </td><td>0.06016675  </td><td>0.07341833  </td><td>0.09193667  </td><td>0.05475739  </td><td>0.07150245  </td><td>0.039137196 </td><td> 0.03742676 </td><td>0.05912434  </td><td>0.06137606  </td><td>0.09141475  </td><td>0.05245201  </td></tr>\n",
       "\t<tr><td>0.10996581  </td><td>0.10857340  </td><td> 0.096404226</td><td>0.11347379  </td><td>0.09497269  </td><td>0.10615624  </td><td>0.07391824  </td><td>0.11082087  </td><td>0.09141639  </td><td>0.07128129  </td><td>0.07227632  </td><td>0.09896805  </td><td>0.06936392  </td><td>0.06868113  </td><td>0.044654348 </td><td> 0.04870857 </td><td>0.06777219  </td><td>0.05975112  </td><td>0.09751930  </td><td>0.05468406  </td></tr>\n",
       "\t<tr><td>0.09298858  </td><td>0.09640423  </td><td> 0.280279720</td><td>0.06720930  </td><td>0.06209837  </td><td>0.13987946  </td><td>0.02145221  </td><td>0.09324050  </td><td>0.08988181  </td><td>0.12204986  </td><td>0.04947652  </td><td>0.10909181  </td><td>0.06557439  </td><td>0.08375722  </td><td>0.008240775 </td><td>-0.01650327 </td><td>0.10588033  </td><td>0.04781661  </td><td>0.08890578  </td><td>0.04275949  </td></tr>\n",
       "\t<tr><td>0.13794409  </td><td>0.11347379  </td><td> 0.067209302</td><td>0.20817515  </td><td>0.09203085  </td><td>0.13113590  </td><td>0.08520024  </td><td>0.17330672  </td><td>0.06258199  </td><td>0.05024802  </td><td>0.06200523  </td><td>0.06266021  </td><td>0.02841107  </td><td>0.05728590  </td><td>0.026581538 </td><td> 0.01780856 </td><td>0.05679692  </td><td>0.05257309  </td><td>0.06401723  </td><td>0.03959306  </td></tr>\n",
       "\t<tr><td>0.10073230  </td><td>0.09497269  </td><td> 0.062098373</td><td>0.09203085  </td><td>0.13218663  </td><td>0.07938015  </td><td>0.07001447  </td><td>0.08217036  </td><td>0.07274547  </td><td>0.08750580  </td><td>0.11755289  </td><td>0.10827654  </td><td>0.07000568  </td><td>0.08319422  </td><td>0.095120234 </td><td> 0.08396213 </td><td>0.08842529  </td><td>0.07991019  </td><td>0.07745833  </td><td>0.09676314  </td></tr>\n",
       "\t<tr><td>0.11608839  </td><td>0.10615624  </td><td> 0.139879459</td><td>0.13113590  </td><td>0.07938015  </td><td>0.12910464  </td><td>0.06726981  </td><td>0.12606769  </td><td>0.09066228  </td><td>0.06870836  </td><td>0.05282707  </td><td>0.08836988  </td><td>0.05812624  </td><td>0.07933956  </td><td>0.025162462 </td><td> 0.03553331 </td><td>0.06738796  </td><td>0.05847116  </td><td>0.09409026  </td><td>0.04451227  </td></tr>\n",
       "\t<tr><td>0.07079862  </td><td>0.07391824  </td><td> 0.021452213</td><td>0.08520024  </td><td>0.07001447  </td><td>0.06726981  </td><td>0.20188805  </td><td>0.08338486  </td><td>0.07850111  </td><td>0.06303137  </td><td>0.06494308  </td><td>0.05217333  </td><td>0.09036428  </td><td>0.06472688  </td><td>0.056874418 </td><td> 0.06960285 </td><td>0.06144502  </td><td>0.08662686  </td><td>0.06959685  </td><td>0.08962314  </td></tr>\n",
       "\t<tr><td>0.12420658  </td><td>0.11082087  </td><td> 0.093240500</td><td>0.17330672  </td><td>0.08217036  </td><td>0.12606769  </td><td>0.08338486  </td><td>0.15410717  </td><td>0.07452010  </td><td>0.06426123  </td><td>0.05883849  </td><td>0.07287835  </td><td>0.04686481  </td><td>0.06104107  </td><td>0.029813980 </td><td> 0.02531124 </td><td>0.06619457  </td><td>0.05454373  </td><td>0.07593516  </td><td>0.04224509  </td></tr>\n",
       "\t<tr><td>0.08501370  </td><td>0.09141639  </td><td> 0.089881806</td><td>0.06258199  </td><td>0.07274547  </td><td>0.09066228  </td><td>0.07850111  </td><td>0.07452010  </td><td>0.11395535  </td><td>0.06634877  </td><td>0.06339491  </td><td>0.09951914  </td><td>0.10106507  </td><td>0.09526355  </td><td>0.071596084 </td><td> 0.11105701 </td><td>0.06535837  </td><td>0.08338093  </td><td>0.12147998  </td><td>0.06893370  </td></tr>\n",
       "\t<tr><td>0.06016675  </td><td>0.07128129  </td><td> 0.122049856</td><td>0.05024802  </td><td>0.08750580  </td><td>0.06870836  </td><td>0.06303137  </td><td>0.06426123  </td><td>0.06634877  </td><td>0.15004118  </td><td>0.13674582  </td><td>0.09769291  </td><td>0.10775338  </td><td>0.09015221  </td><td>0.148231593 </td><td> 0.07567949 </td><td>0.14035943  </td><td>0.11272560  </td><td>0.06210302  </td><td>0.12624060  </td></tr>\n",
       "\t<tr><td>0.07341833  </td><td>0.07227632  </td><td> 0.049476518</td><td>0.06200523  </td><td>0.11755289  </td><td>0.05282707  </td><td>0.06494308  </td><td>0.05883849  </td><td>0.06339491  </td><td>0.13674582  </td><td>0.20027863  </td><td>0.09868539  </td><td>0.12206803  </td><td>0.09533170  </td><td>0.202341428 </td><td> 0.07361972 </td><td>0.12337840  </td><td>0.15238796  </td><td>0.06587325  </td><td>0.16583554  </td></tr>\n",
       "\t<tr><td>0.09193667  </td><td>0.09896805  </td><td> 0.109091806</td><td>0.06266021  </td><td>0.10827654  </td><td>0.08836988  </td><td>0.05217333  </td><td>0.07287835  </td><td>0.09951914  </td><td>0.09769291  </td><td>0.09868539  </td><td>0.12234697  </td><td>0.09419869  </td><td>0.09345820  </td><td>0.090860095 </td><td> 0.10034599 </td><td>0.09465915  </td><td>0.07997458  </td><td>0.10694739  </td><td>0.08588950  </td></tr>\n",
       "\t<tr><td>0.05475739  </td><td>0.06936392  </td><td> 0.065574392</td><td>0.02841107  </td><td>0.07000568  </td><td>0.05812624  </td><td>0.09036428  </td><td>0.04686481  </td><td>0.10106507  </td><td>0.10775338  </td><td>0.12206803  </td><td>0.09419869  </td><td>0.14118884  </td><td>0.10466028  </td><td>0.151494325 </td><td> 0.13358302 </td><td>0.10204782  </td><td>0.12802024  </td><td>0.10348311  </td><td>0.12863891  </td></tr>\n",
       "\t<tr><td>0.07150245  </td><td>0.06868113  </td><td> 0.083757219</td><td>0.05728590  </td><td>0.08319422  </td><td>0.07933956  </td><td>0.06472688  </td><td>0.06104107  </td><td>0.09526355  </td><td>0.09015221  </td><td>0.09533170  </td><td>0.09345820  </td><td>0.10466028  </td><td>0.12929098  </td><td>0.134282334 </td><td> 0.16785676 </td><td>0.09956606  </td><td>0.11707375  </td><td>0.09760093  </td><td>0.11310801  </td></tr>\n",
       "\t<tr><td>0.03913720  </td><td>0.04465435  </td><td> 0.008240775</td><td>0.02658154  </td><td>0.09512023  </td><td>0.02516246  </td><td>0.05687442  </td><td>0.02981398  </td><td>0.07159608  </td><td>0.14823159  </td><td>0.20234143  </td><td>0.09086010  </td><td>0.15149432  </td><td>0.13428233  </td><td>0.280991402 </td><td> 0.19017223 </td><td>0.14788349  </td><td>0.19341039  </td><td>0.07262011  </td><td>0.19556145  </td></tr>\n",
       "\t<tr><td>0.03742676  </td><td>0.04870857  </td><td>-0.016503265</td><td>0.01780856  </td><td>0.08396213  </td><td>0.03553331  </td><td>0.06960285  </td><td>0.02531124  </td><td>0.11105701  </td><td>0.07567949  </td><td>0.07361972  </td><td>0.10034599  </td><td>0.13358302  </td><td>0.16785676  </td><td>0.190172229 </td><td> 0.37015756 </td><td>0.11606499  </td><td>0.12160057  </td><td>0.11402843  </td><td>0.13537665  </td></tr>\n",
       "\t<tr><td>0.05912434  </td><td>0.06777219  </td><td> 0.105880326</td><td>0.05679692  </td><td>0.08842529  </td><td>0.06738796  </td><td>0.06144502  </td><td>0.06619457  </td><td>0.06535837  </td><td>0.14035943  </td><td>0.12337840  </td><td>0.09465915  </td><td>0.10204782  </td><td>0.09956606  </td><td>0.147883490 </td><td> 0.11606499 </td><td>0.14060994  </td><td>0.10708090  </td><td>0.06046628  </td><td>0.12426119  </td></tr>\n",
       "\t<tr><td>0.06137606  </td><td>0.05975112  </td><td> 0.047816612</td><td>0.05257309  </td><td>0.07991019  </td><td>0.05847116  </td><td>0.08662686  </td><td>0.05454373  </td><td>0.08338093  </td><td>0.11272560  </td><td>0.15238796  </td><td>0.07997458  </td><td>0.12802024  </td><td>0.11707375  </td><td>0.193410388 </td><td> 0.12160057 </td><td>0.10708090  </td><td>0.16215769  </td><td>0.08442365  </td><td>0.14990897  </td></tr>\n",
       "\t<tr><td>0.09141475  </td><td>0.09751930  </td><td> 0.088905780</td><td>0.06401723  </td><td>0.07745833  </td><td>0.09409026  </td><td>0.06959685  </td><td>0.07593516  </td><td>0.12147998  </td><td>0.06210302  </td><td>0.06587325  </td><td>0.10694739  </td><td>0.10348311  </td><td>0.09760093  </td><td>0.072620108 </td><td> 0.11402843 </td><td>0.06046628  </td><td>0.08442365  </td><td>0.13219634  </td><td>0.06638368  </td></tr>\n",
       "\t<tr><td>0.05245201  </td><td>0.05468406  </td><td> 0.042759493</td><td>0.03959306  </td><td>0.09676314  </td><td>0.04451227  </td><td>0.08962314  </td><td>0.04224509  </td><td>0.06893370  </td><td>0.12624060  </td><td>0.16583554  </td><td>0.08588950  </td><td>0.12863891  </td><td>0.11310801  </td><td>0.195561447 </td><td> 0.13537665 </td><td>0.12426119  </td><td>0.14990897  </td><td>0.06638368  </td><td>0.16643688  </td></tr>\n",
       "</tbody>\n",
       "</table>\n"
      ],
      "text/latex": [
       "\\begin{tabular}{llllllllllllllllllll}\n",
       "\t 0.12233086   & 0.10996581   &  0.092988578 & 0.13794409   & 0.10073230   & 0.11608839   & 0.07079862   & 0.12420658   & 0.08501370   & 0.06016675   & 0.07341833   & 0.09193667   & 0.05475739   & 0.07150245   & 0.039137196  &  0.03742676  & 0.05912434   & 0.06137606   & 0.09141475   & 0.05245201  \\\\\n",
       "\t 0.10996581   & 0.10857340   &  0.096404226 & 0.11347379   & 0.09497269   & 0.10615624   & 0.07391824   & 0.11082087   & 0.09141639   & 0.07128129   & 0.07227632   & 0.09896805   & 0.06936392   & 0.06868113   & 0.044654348  &  0.04870857  & 0.06777219   & 0.05975112   & 0.09751930   & 0.05468406  \\\\\n",
       "\t 0.09298858   & 0.09640423   &  0.280279720 & 0.06720930   & 0.06209837   & 0.13987946   & 0.02145221   & 0.09324050   & 0.08988181   & 0.12204986   & 0.04947652   & 0.10909181   & 0.06557439   & 0.08375722   & 0.008240775  & -0.01650327  & 0.10588033   & 0.04781661   & 0.08890578   & 0.04275949  \\\\\n",
       "\t 0.13794409   & 0.11347379   &  0.067209302 & 0.20817515   & 0.09203085   & 0.13113590   & 0.08520024   & 0.17330672   & 0.06258199   & 0.05024802   & 0.06200523   & 0.06266021   & 0.02841107   & 0.05728590   & 0.026581538  &  0.01780856  & 0.05679692   & 0.05257309   & 0.06401723   & 0.03959306  \\\\\n",
       "\t 0.10073230   & 0.09497269   &  0.062098373 & 0.09203085   & 0.13218663   & 0.07938015   & 0.07001447   & 0.08217036   & 0.07274547   & 0.08750580   & 0.11755289   & 0.10827654   & 0.07000568   & 0.08319422   & 0.095120234  &  0.08396213  & 0.08842529   & 0.07991019   & 0.07745833   & 0.09676314  \\\\\n",
       "\t 0.11608839   & 0.10615624   &  0.139879459 & 0.13113590   & 0.07938015   & 0.12910464   & 0.06726981   & 0.12606769   & 0.09066228   & 0.06870836   & 0.05282707   & 0.08836988   & 0.05812624   & 0.07933956   & 0.025162462  &  0.03553331  & 0.06738796   & 0.05847116   & 0.09409026   & 0.04451227  \\\\\n",
       "\t 0.07079862   & 0.07391824   &  0.021452213 & 0.08520024   & 0.07001447   & 0.06726981   & 0.20188805   & 0.08338486   & 0.07850111   & 0.06303137   & 0.06494308   & 0.05217333   & 0.09036428   & 0.06472688   & 0.056874418  &  0.06960285  & 0.06144502   & 0.08662686   & 0.06959685   & 0.08962314  \\\\\n",
       "\t 0.12420658   & 0.11082087   &  0.093240500 & 0.17330672   & 0.08217036   & 0.12606769   & 0.08338486   & 0.15410717   & 0.07452010   & 0.06426123   & 0.05883849   & 0.07287835   & 0.04686481   & 0.06104107   & 0.029813980  &  0.02531124  & 0.06619457   & 0.05454373   & 0.07593516   & 0.04224509  \\\\\n",
       "\t 0.08501370   & 0.09141639   &  0.089881806 & 0.06258199   & 0.07274547   & 0.09066228   & 0.07850111   & 0.07452010   & 0.11395535   & 0.06634877   & 0.06339491   & 0.09951914   & 0.10106507   & 0.09526355   & 0.071596084  &  0.11105701  & 0.06535837   & 0.08338093   & 0.12147998   & 0.06893370  \\\\\n",
       "\t 0.06016675   & 0.07128129   &  0.122049856 & 0.05024802   & 0.08750580   & 0.06870836   & 0.06303137   & 0.06426123   & 0.06634877   & 0.15004118   & 0.13674582   & 0.09769291   & 0.10775338   & 0.09015221   & 0.148231593  &  0.07567949  & 0.14035943   & 0.11272560   & 0.06210302   & 0.12624060  \\\\\n",
       "\t 0.07341833   & 0.07227632   &  0.049476518 & 0.06200523   & 0.11755289   & 0.05282707   & 0.06494308   & 0.05883849   & 0.06339491   & 0.13674582   & 0.20027863   & 0.09868539   & 0.12206803   & 0.09533170   & 0.202341428  &  0.07361972  & 0.12337840   & 0.15238796   & 0.06587325   & 0.16583554  \\\\\n",
       "\t 0.09193667   & 0.09896805   &  0.109091806 & 0.06266021   & 0.10827654   & 0.08836988   & 0.05217333   & 0.07287835   & 0.09951914   & 0.09769291   & 0.09868539   & 0.12234697   & 0.09419869   & 0.09345820   & 0.090860095  &  0.10034599  & 0.09465915   & 0.07997458   & 0.10694739   & 0.08588950  \\\\\n",
       "\t 0.05475739   & 0.06936392   &  0.065574392 & 0.02841107   & 0.07000568   & 0.05812624   & 0.09036428   & 0.04686481   & 0.10106507   & 0.10775338   & 0.12206803   & 0.09419869   & 0.14118884   & 0.10466028   & 0.151494325  &  0.13358302  & 0.10204782   & 0.12802024   & 0.10348311   & 0.12863891  \\\\\n",
       "\t 0.07150245   & 0.06868113   &  0.083757219 & 0.05728590   & 0.08319422   & 0.07933956   & 0.06472688   & 0.06104107   & 0.09526355   & 0.09015221   & 0.09533170   & 0.09345820   & 0.10466028   & 0.12929098   & 0.134282334  &  0.16785676  & 0.09956606   & 0.11707375   & 0.09760093   & 0.11310801  \\\\\n",
       "\t 0.03913720   & 0.04465435   &  0.008240775 & 0.02658154   & 0.09512023   & 0.02516246   & 0.05687442   & 0.02981398   & 0.07159608   & 0.14823159   & 0.20234143   & 0.09086010   & 0.15149432   & 0.13428233   & 0.280991402  &  0.19017223  & 0.14788349   & 0.19341039   & 0.07262011   & 0.19556145  \\\\\n",
       "\t 0.03742676   & 0.04870857   & -0.016503265 & 0.01780856   & 0.08396213   & 0.03553331   & 0.06960285   & 0.02531124   & 0.11105701   & 0.07567949   & 0.07361972   & 0.10034599   & 0.13358302   & 0.16785676   & 0.190172229  &  0.37015756  & 0.11606499   & 0.12160057   & 0.11402843   & 0.13537665  \\\\\n",
       "\t 0.05912434   & 0.06777219   &  0.105880326 & 0.05679692   & 0.08842529   & 0.06738796   & 0.06144502   & 0.06619457   & 0.06535837   & 0.14035943   & 0.12337840   & 0.09465915   & 0.10204782   & 0.09956606   & 0.147883490  &  0.11606499  & 0.14060994   & 0.10708090   & 0.06046628   & 0.12426119  \\\\\n",
       "\t 0.06137606   & 0.05975112   &  0.047816612 & 0.05257309   & 0.07991019   & 0.05847116   & 0.08662686   & 0.05454373   & 0.08338093   & 0.11272560   & 0.15238796   & 0.07997458   & 0.12802024   & 0.11707375   & 0.193410388  &  0.12160057  & 0.10708090   & 0.16215769   & 0.08442365   & 0.14990897  \\\\\n",
       "\t 0.09141475   & 0.09751930   &  0.088905780 & 0.06401723   & 0.07745833   & 0.09409026   & 0.06959685   & 0.07593516   & 0.12147998   & 0.06210302   & 0.06587325   & 0.10694739   & 0.10348311   & 0.09760093   & 0.072620108  &  0.11402843  & 0.06046628   & 0.08442365   & 0.13219634   & 0.06638368  \\\\\n",
       "\t 0.05245201   & 0.05468406   &  0.042759493 & 0.03959306   & 0.09676314   & 0.04451227   & 0.08962314   & 0.04224509   & 0.06893370   & 0.12624060   & 0.16583554   & 0.08588950   & 0.12863891   & 0.11310801   & 0.195561447  &  0.13537665  & 0.12426119   & 0.14990897   & 0.06638368   & 0.16643688  \\\\\n",
       "\\end{tabular}\n"
      ],
      "text/markdown": [
       "\n",
       "| 0.12233086   | 0.10996581   |  0.092988578 | 0.13794409   | 0.10073230   | 0.11608839   | 0.07079862   | 0.12420658   | 0.08501370   | 0.06016675   | 0.07341833   | 0.09193667   | 0.05475739   | 0.07150245   | 0.039137196  |  0.03742676  | 0.05912434   | 0.06137606   | 0.09141475   | 0.05245201   | \n",
       "| 0.10996581   | 0.10857340   |  0.096404226 | 0.11347379   | 0.09497269   | 0.10615624   | 0.07391824   | 0.11082087   | 0.09141639   | 0.07128129   | 0.07227632   | 0.09896805   | 0.06936392   | 0.06868113   | 0.044654348  |  0.04870857  | 0.06777219   | 0.05975112   | 0.09751930   | 0.05468406   | \n",
       "| 0.09298858   | 0.09640423   |  0.280279720 | 0.06720930   | 0.06209837   | 0.13987946   | 0.02145221   | 0.09324050   | 0.08988181   | 0.12204986   | 0.04947652   | 0.10909181   | 0.06557439   | 0.08375722   | 0.008240775  | -0.01650327  | 0.10588033   | 0.04781661   | 0.08890578   | 0.04275949   | \n",
       "| 0.13794409   | 0.11347379   |  0.067209302 | 0.20817515   | 0.09203085   | 0.13113590   | 0.08520024   | 0.17330672   | 0.06258199   | 0.05024802   | 0.06200523   | 0.06266021   | 0.02841107   | 0.05728590   | 0.026581538  |  0.01780856  | 0.05679692   | 0.05257309   | 0.06401723   | 0.03959306   | \n",
       "| 0.10073230   | 0.09497269   |  0.062098373 | 0.09203085   | 0.13218663   | 0.07938015   | 0.07001447   | 0.08217036   | 0.07274547   | 0.08750580   | 0.11755289   | 0.10827654   | 0.07000568   | 0.08319422   | 0.095120234  |  0.08396213  | 0.08842529   | 0.07991019   | 0.07745833   | 0.09676314   | \n",
       "| 0.11608839   | 0.10615624   |  0.139879459 | 0.13113590   | 0.07938015   | 0.12910464   | 0.06726981   | 0.12606769   | 0.09066228   | 0.06870836   | 0.05282707   | 0.08836988   | 0.05812624   | 0.07933956   | 0.025162462  |  0.03553331  | 0.06738796   | 0.05847116   | 0.09409026   | 0.04451227   | \n",
       "| 0.07079862   | 0.07391824   |  0.021452213 | 0.08520024   | 0.07001447   | 0.06726981   | 0.20188805   | 0.08338486   | 0.07850111   | 0.06303137   | 0.06494308   | 0.05217333   | 0.09036428   | 0.06472688   | 0.056874418  |  0.06960285  | 0.06144502   | 0.08662686   | 0.06959685   | 0.08962314   | \n",
       "| 0.12420658   | 0.11082087   |  0.093240500 | 0.17330672   | 0.08217036   | 0.12606769   | 0.08338486   | 0.15410717   | 0.07452010   | 0.06426123   | 0.05883849   | 0.07287835   | 0.04686481   | 0.06104107   | 0.029813980  |  0.02531124  | 0.06619457   | 0.05454373   | 0.07593516   | 0.04224509   | \n",
       "| 0.08501370   | 0.09141639   |  0.089881806 | 0.06258199   | 0.07274547   | 0.09066228   | 0.07850111   | 0.07452010   | 0.11395535   | 0.06634877   | 0.06339491   | 0.09951914   | 0.10106507   | 0.09526355   | 0.071596084  |  0.11105701  | 0.06535837   | 0.08338093   | 0.12147998   | 0.06893370   | \n",
       "| 0.06016675   | 0.07128129   |  0.122049856 | 0.05024802   | 0.08750580   | 0.06870836   | 0.06303137   | 0.06426123   | 0.06634877   | 0.15004118   | 0.13674582   | 0.09769291   | 0.10775338   | 0.09015221   | 0.148231593  |  0.07567949  | 0.14035943   | 0.11272560   | 0.06210302   | 0.12624060   | \n",
       "| 0.07341833   | 0.07227632   |  0.049476518 | 0.06200523   | 0.11755289   | 0.05282707   | 0.06494308   | 0.05883849   | 0.06339491   | 0.13674582   | 0.20027863   | 0.09868539   | 0.12206803   | 0.09533170   | 0.202341428  |  0.07361972  | 0.12337840   | 0.15238796   | 0.06587325   | 0.16583554   | \n",
       "| 0.09193667   | 0.09896805   |  0.109091806 | 0.06266021   | 0.10827654   | 0.08836988   | 0.05217333   | 0.07287835   | 0.09951914   | 0.09769291   | 0.09868539   | 0.12234697   | 0.09419869   | 0.09345820   | 0.090860095  |  0.10034599  | 0.09465915   | 0.07997458   | 0.10694739   | 0.08588950   | \n",
       "| 0.05475739   | 0.06936392   |  0.065574392 | 0.02841107   | 0.07000568   | 0.05812624   | 0.09036428   | 0.04686481   | 0.10106507   | 0.10775338   | 0.12206803   | 0.09419869   | 0.14118884   | 0.10466028   | 0.151494325  |  0.13358302  | 0.10204782   | 0.12802024   | 0.10348311   | 0.12863891   | \n",
       "| 0.07150245   | 0.06868113   |  0.083757219 | 0.05728590   | 0.08319422   | 0.07933956   | 0.06472688   | 0.06104107   | 0.09526355   | 0.09015221   | 0.09533170   | 0.09345820   | 0.10466028   | 0.12929098   | 0.134282334  |  0.16785676  | 0.09956606   | 0.11707375   | 0.09760093   | 0.11310801   | \n",
       "| 0.03913720   | 0.04465435   |  0.008240775 | 0.02658154   | 0.09512023   | 0.02516246   | 0.05687442   | 0.02981398   | 0.07159608   | 0.14823159   | 0.20234143   | 0.09086010   | 0.15149432   | 0.13428233   | 0.280991402  |  0.19017223  | 0.14788349   | 0.19341039   | 0.07262011   | 0.19556145   | \n",
       "| 0.03742676   | 0.04870857   | -0.016503265 | 0.01780856   | 0.08396213   | 0.03553331   | 0.06960285   | 0.02531124   | 0.11105701   | 0.07567949   | 0.07361972   | 0.10034599   | 0.13358302   | 0.16785676   | 0.190172229  |  0.37015756  | 0.11606499   | 0.12160057   | 0.11402843   | 0.13537665   | \n",
       "| 0.05912434   | 0.06777219   |  0.105880326 | 0.05679692   | 0.08842529   | 0.06738796   | 0.06144502   | 0.06619457   | 0.06535837   | 0.14035943   | 0.12337840   | 0.09465915   | 0.10204782   | 0.09956606   | 0.147883490  |  0.11606499  | 0.14060994   | 0.10708090   | 0.06046628   | 0.12426119   | \n",
       "| 0.06137606   | 0.05975112   |  0.047816612 | 0.05257309   | 0.07991019   | 0.05847116   | 0.08662686   | 0.05454373   | 0.08338093   | 0.11272560   | 0.15238796   | 0.07997458   | 0.12802024   | 0.11707375   | 0.193410388  |  0.12160057  | 0.10708090   | 0.16215769   | 0.08442365   | 0.14990897   | \n",
       "| 0.09141475   | 0.09751930   |  0.088905780 | 0.06401723   | 0.07745833   | 0.09409026   | 0.06959685   | 0.07593516   | 0.12147998   | 0.06210302   | 0.06587325   | 0.10694739   | 0.10348311   | 0.09760093   | 0.072620108  |  0.11402843  | 0.06046628   | 0.08442365   | 0.13219634   | 0.06638368   | \n",
       "| 0.05245201   | 0.05468406   |  0.042759493 | 0.03959306   | 0.09676314   | 0.04451227   | 0.08962314   | 0.04224509   | 0.06893370   | 0.12624060   | 0.16583554   | 0.08588950   | 0.12863891   | 0.11310801   | 0.195561447  |  0.13537665  | 0.12426119   | 0.14990897   | 0.06638368   | 0.16643688   | \n",
       "\n",
       "\n"
      ],
      "text/plain": [
       "      [,1]       [,2]       [,3]         [,4]       [,5]       [,6]      \n",
       " [1,] 0.12233086 0.10996581  0.092988578 0.13794409 0.10073230 0.11608839\n",
       " [2,] 0.10996581 0.10857340  0.096404226 0.11347379 0.09497269 0.10615624\n",
       " [3,] 0.09298858 0.09640423  0.280279720 0.06720930 0.06209837 0.13987946\n",
       " [4,] 0.13794409 0.11347379  0.067209302 0.20817515 0.09203085 0.13113590\n",
       " [5,] 0.10073230 0.09497269  0.062098373 0.09203085 0.13218663 0.07938015\n",
       " [6,] 0.11608839 0.10615624  0.139879459 0.13113590 0.07938015 0.12910464\n",
       " [7,] 0.07079862 0.07391824  0.021452213 0.08520024 0.07001447 0.06726981\n",
       " [8,] 0.12420658 0.11082087  0.093240500 0.17330672 0.08217036 0.12606769\n",
       " [9,] 0.08501370 0.09141639  0.089881806 0.06258199 0.07274547 0.09066228\n",
       "[10,] 0.06016675 0.07128129  0.122049856 0.05024802 0.08750580 0.06870836\n",
       "[11,] 0.07341833 0.07227632  0.049476518 0.06200523 0.11755289 0.05282707\n",
       "[12,] 0.09193667 0.09896805  0.109091806 0.06266021 0.10827654 0.08836988\n",
       "[13,] 0.05475739 0.06936392  0.065574392 0.02841107 0.07000568 0.05812624\n",
       "[14,] 0.07150245 0.06868113  0.083757219 0.05728590 0.08319422 0.07933956\n",
       "[15,] 0.03913720 0.04465435  0.008240775 0.02658154 0.09512023 0.02516246\n",
       "[16,] 0.03742676 0.04870857 -0.016503265 0.01780856 0.08396213 0.03553331\n",
       "[17,] 0.05912434 0.06777219  0.105880326 0.05679692 0.08842529 0.06738796\n",
       "[18,] 0.06137606 0.05975112  0.047816612 0.05257309 0.07991019 0.05847116\n",
       "[19,] 0.09141475 0.09751930  0.088905780 0.06401723 0.07745833 0.09409026\n",
       "[20,] 0.05245201 0.05468406  0.042759493 0.03959306 0.09676314 0.04451227\n",
       "      [,7]       [,8]       [,9]       [,10]      [,11]      [,12]     \n",
       " [1,] 0.07079862 0.12420658 0.08501370 0.06016675 0.07341833 0.09193667\n",
       " [2,] 0.07391824 0.11082087 0.09141639 0.07128129 0.07227632 0.09896805\n",
       " [3,] 0.02145221 0.09324050 0.08988181 0.12204986 0.04947652 0.10909181\n",
       " [4,] 0.08520024 0.17330672 0.06258199 0.05024802 0.06200523 0.06266021\n",
       " [5,] 0.07001447 0.08217036 0.07274547 0.08750580 0.11755289 0.10827654\n",
       " [6,] 0.06726981 0.12606769 0.09066228 0.06870836 0.05282707 0.08836988\n",
       " [7,] 0.20188805 0.08338486 0.07850111 0.06303137 0.06494308 0.05217333\n",
       " [8,] 0.08338486 0.15410717 0.07452010 0.06426123 0.05883849 0.07287835\n",
       " [9,] 0.07850111 0.07452010 0.11395535 0.06634877 0.06339491 0.09951914\n",
       "[10,] 0.06303137 0.06426123 0.06634877 0.15004118 0.13674582 0.09769291\n",
       "[11,] 0.06494308 0.05883849 0.06339491 0.13674582 0.20027863 0.09868539\n",
       "[12,] 0.05217333 0.07287835 0.09951914 0.09769291 0.09868539 0.12234697\n",
       "[13,] 0.09036428 0.04686481 0.10106507 0.10775338 0.12206803 0.09419869\n",
       "[14,] 0.06472688 0.06104107 0.09526355 0.09015221 0.09533170 0.09345820\n",
       "[15,] 0.05687442 0.02981398 0.07159608 0.14823159 0.20234143 0.09086010\n",
       "[16,] 0.06960285 0.02531124 0.11105701 0.07567949 0.07361972 0.10034599\n",
       "[17,] 0.06144502 0.06619457 0.06535837 0.14035943 0.12337840 0.09465915\n",
       "[18,] 0.08662686 0.05454373 0.08338093 0.11272560 0.15238796 0.07997458\n",
       "[19,] 0.06959685 0.07593516 0.12147998 0.06210302 0.06587325 0.10694739\n",
       "[20,] 0.08962314 0.04224509 0.06893370 0.12624060 0.16583554 0.08588950\n",
       "      [,13]      [,14]      [,15]       [,16]       [,17]      [,18]     \n",
       " [1,] 0.05475739 0.07150245 0.039137196  0.03742676 0.05912434 0.06137606\n",
       " [2,] 0.06936392 0.06868113 0.044654348  0.04870857 0.06777219 0.05975112\n",
       " [3,] 0.06557439 0.08375722 0.008240775 -0.01650327 0.10588033 0.04781661\n",
       " [4,] 0.02841107 0.05728590 0.026581538  0.01780856 0.05679692 0.05257309\n",
       " [5,] 0.07000568 0.08319422 0.095120234  0.08396213 0.08842529 0.07991019\n",
       " [6,] 0.05812624 0.07933956 0.025162462  0.03553331 0.06738796 0.05847116\n",
       " [7,] 0.09036428 0.06472688 0.056874418  0.06960285 0.06144502 0.08662686\n",
       " [8,] 0.04686481 0.06104107 0.029813980  0.02531124 0.06619457 0.05454373\n",
       " [9,] 0.10106507 0.09526355 0.071596084  0.11105701 0.06535837 0.08338093\n",
       "[10,] 0.10775338 0.09015221 0.148231593  0.07567949 0.14035943 0.11272560\n",
       "[11,] 0.12206803 0.09533170 0.202341428  0.07361972 0.12337840 0.15238796\n",
       "[12,] 0.09419869 0.09345820 0.090860095  0.10034599 0.09465915 0.07997458\n",
       "[13,] 0.14118884 0.10466028 0.151494325  0.13358302 0.10204782 0.12802024\n",
       "[14,] 0.10466028 0.12929098 0.134282334  0.16785676 0.09956606 0.11707375\n",
       "[15,] 0.15149432 0.13428233 0.280991402  0.19017223 0.14788349 0.19341039\n",
       "[16,] 0.13358302 0.16785676 0.190172229  0.37015756 0.11606499 0.12160057\n",
       "[17,] 0.10204782 0.09956606 0.147883490  0.11606499 0.14060994 0.10708090\n",
       "[18,] 0.12802024 0.11707375 0.193410388  0.12160057 0.10708090 0.16215769\n",
       "[19,] 0.10348311 0.09760093 0.072620108  0.11402843 0.06046628 0.08442365\n",
       "[20,] 0.12863891 0.11310801 0.195561447  0.13537665 0.12426119 0.14990897\n",
       "      [,19]      [,20]     \n",
       " [1,] 0.09141475 0.05245201\n",
       " [2,] 0.09751930 0.05468406\n",
       " [3,] 0.08890578 0.04275949\n",
       " [4,] 0.06401723 0.03959306\n",
       " [5,] 0.07745833 0.09676314\n",
       " [6,] 0.09409026 0.04451227\n",
       " [7,] 0.06959685 0.08962314\n",
       " [8,] 0.07593516 0.04224509\n",
       " [9,] 0.12147998 0.06893370\n",
       "[10,] 0.06210302 0.12624060\n",
       "[11,] 0.06587325 0.16583554\n",
       "[12,] 0.10694739 0.08588950\n",
       "[13,] 0.10348311 0.12863891\n",
       "[14,] 0.09760093 0.11310801\n",
       "[15,] 0.07262011 0.19556145\n",
       "[16,] 0.11402843 0.13537665\n",
       "[17,] 0.06046628 0.12426119\n",
       "[18,] 0.08442365 0.14990897\n",
       "[19,] 0.13219634 0.06638368\n",
       "[20,] 0.06638368 0.16643688"
      ]
     },
     "metadata": {},
     "output_type": "display_data"
    }
   ],
   "source": [
    "euclid<-G%*%t(G)\n",
    "euclid"
   ]
  }
 ],
 "metadata": {
  "kernelspec": {
   "display_name": "R 3.4",
   "language": "R",
   "name": "ir34"
  },
  "language_info": {
   "codemirror_mode": "r",
   "file_extension": ".r",
   "mimetype": "text/x-r-source",
   "name": "R",
   "pygments_lexer": "r",
   "version": "3.4.0"
  }
 },
 "nbformat": 4,
 "nbformat_minor": 2
}
